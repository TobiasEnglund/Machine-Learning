{
 "cells": [
  {
   "cell_type": "markdown",
   "metadata": {},
   "source": [
    "Jag fick det tyvärr inte att fungera i en .py fil pga mitt virtual environment.  \n",
    "Jag tror att jag kan ha kört hela den här labben i ett virtual environment som jag haft från tidigare projekt.  \n",
    "Ursäkta! Ska se om jag kan fixa det men laddar upp denna sålänge!"
   ]
  },
  {
   "cell_type": "code",
   "execution_count": 1,
   "metadata": {},
   "outputs": [],
   "source": [
    "import pandas as pd\n",
    "from joblib import load\n",
    "\n",
    "test_samples = pd.read_csv(\"test_samples.csv\")\n",
    "\n",
    "X_test = test_samples.drop(\"cardio\", axis=1)\n",
    "\n",
    "bästa_modell = load(\"bästa_modell.pkl\")\n",
    "\n",
    "förutsägelser = bästa_modell.predict(X_test)\n",
    "\n",
    "sannolikheter = bästa_modell.predict_proba(X_test)\n",
    "\n",
    "resultat = pd.DataFrame({\n",
    "    \"probability class 0\": sannolikheter[:, 0],\n",
    "    \"probability class 1\": sannolikheter[:, 1],\n",
    "    \"predictions\": förutsägelser\n",
    "})\n",
    "\n",
    "resultat.to_csv(\"prediction.csv\", index=False)"
   ]
  },
  {
   "cell_type": "code",
   "execution_count": 5,
   "metadata": {},
   "outputs": [
    {
     "data": {
      "text/html": [
       "<div>\n",
       "<style scoped>\n",
       "    .dataframe tbody tr th:only-of-type {\n",
       "        vertical-align: middle;\n",
       "    }\n",
       "\n",
       "    .dataframe tbody tr th {\n",
       "        vertical-align: top;\n",
       "    }\n",
       "\n",
       "    .dataframe thead th {\n",
       "        text-align: right;\n",
       "    }\n",
       "</style>\n",
       "<table border=\"1\" class=\"dataframe\">\n",
       "  <thead>\n",
       "    <tr style=\"text-align: right;\">\n",
       "      <th></th>\n",
       "      <th>probability class 0</th>\n",
       "      <th>probability class 1</th>\n",
       "      <th>predictions</th>\n",
       "    </tr>\n",
       "  </thead>\n",
       "  <tbody>\n",
       "    <tr>\n",
       "      <th>0</th>\n",
       "      <td>0.265036</td>\n",
       "      <td>0.734964</td>\n",
       "      <td>1</td>\n",
       "    </tr>\n",
       "    <tr>\n",
       "      <th>1</th>\n",
       "      <td>0.721051</td>\n",
       "      <td>0.278949</td>\n",
       "      <td>0</td>\n",
       "    </tr>\n",
       "    <tr>\n",
       "      <th>2</th>\n",
       "      <td>0.841957</td>\n",
       "      <td>0.158043</td>\n",
       "      <td>0</td>\n",
       "    </tr>\n",
       "    <tr>\n",
       "      <th>3</th>\n",
       "      <td>0.526435</td>\n",
       "      <td>0.473565</td>\n",
       "      <td>0</td>\n",
       "    </tr>\n",
       "    <tr>\n",
       "      <th>4</th>\n",
       "      <td>0.752396</td>\n",
       "      <td>0.247604</td>\n",
       "      <td>0</td>\n",
       "    </tr>\n",
       "  </tbody>\n",
       "</table>\n",
       "</div>"
      ],
      "text/plain": [
       "   probability class 0  probability class 1  predictions\n",
       "0             0.265036             0.734964            1\n",
       "1             0.721051             0.278949            0\n",
       "2             0.841957             0.158043            0\n",
       "3             0.526435             0.473565            0\n",
       "4             0.752396             0.247604            0"
      ]
     },
     "execution_count": 5,
     "metadata": {},
     "output_type": "execute_result"
    }
   ],
   "source": [
    "förutsägelser = pd.read_csv(\"prediction.csv\")\n",
    "\n",
    "förutsägelser.head(5)"
   ]
  }
 ],
 "metadata": {
  "kernelspec": {
   "display_name": "GitHub-FsW2I2pH",
   "language": "python",
   "name": "python3"
  },
  "language_info": {
   "codemirror_mode": {
    "name": "ipython",
    "version": 3
   },
   "file_extension": ".py",
   "mimetype": "text/x-python",
   "name": "python",
   "nbconvert_exporter": "python",
   "pygments_lexer": "ipython3",
   "version": "3.11.5"
  }
 },
 "nbformat": 4,
 "nbformat_minor": 2
}
